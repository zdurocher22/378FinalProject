{
  "cells": [
    {
      "cell_type": "raw",
      "metadata": {},
      "source": [
        "---\n",
        "title: \"Model\"\n",
        "format:\n",
        "  html:\n",
        "    code-fold: true\n",
        "---"
      ],
      "id": "a027f089"
    },
    {
      "cell_type": "code",
      "metadata": {},
      "source": [
        "import duckdb\n",
        "from palmerpenguins import penguins\n",
        "from pandas import get_dummies\n",
        "import numpy as np\n",
        "from sklearn.linear_model import LinearRegression\n",
        "from sklearn import preprocessing"
      ],
      "id": "6ee6cf86",
      "execution_count": null,
      "outputs": []
    },
    {
      "cell_type": "markdown",
      "metadata": {},
      "source": [
        "## Get Data\n"
      ],
      "id": "df724905"
    },
    {
      "cell_type": "code",
      "metadata": {},
      "source": [
        "con = duckdb.connect('my-db.duckdb')\n",
        "df = penguins.load_penguins()\n",
        "con.register('df',df)\n",
        "con.execute('CREATE TABLE penguins AS SELECT * FROM df')\n",
        "con.close()"
      ],
      "id": "0d50b755",
      "execution_count": null,
      "outputs": []
    },
    {
      "cell_type": "code",
      "metadata": {},
      "source": [
        "df = penguins.load_penguins().dropna()\n",
        "\n",
        "df.head(3)"
      ],
      "id": "795f9c7c",
      "execution_count": null,
      "outputs": []
    },
    {
      "cell_type": "markdown",
      "metadata": {},
      "source": [
        "## Define Model and Fit\n"
      ],
      "id": "cda543bc"
    },
    {
      "cell_type": "code",
      "metadata": {},
      "source": [
        "X = get_dummies(df[['bill_length_mm', 'species', 'sex']], drop_first = True)\n",
        "y = df['body_mass_g']\n",
        "\n",
        "model = LinearRegression().fit(X, y)"
      ],
      "id": "33b8f1ca",
      "execution_count": null,
      "outputs": []
    },
    {
      "cell_type": "markdown",
      "metadata": {},
      "source": [
        "## Get some information\n"
      ],
      "id": "a10c44a1"
    },
    {
      "cell_type": "code",
      "metadata": {},
      "source": [
        "print(f\"R^2 {model.score(X,y)}\")\n",
        "print(f\"Intercept {model.intercept_}\")\n",
        "print(f\"Columns {X.columns}\")\n",
        "print(f\"Coefficients {model.coef_}\")"
      ],
      "id": "5a0dc01b",
      "execution_count": null,
      "outputs": []
    },
    {
      "cell_type": "markdown",
      "metadata": {},
      "source": [
        "## turn our model into a Vetiver model and save it to /data/model\n"
      ],
      "id": "6c0f6b4e"
    },
    {
      "cell_type": "code",
      "metadata": {},
      "source": [
        "from vetiver import VetiverModel\n",
        "v = VetiverModel(model, model_name='penguin_model', prototype_data=X)"
      ],
      "id": "6e8c1cac",
      "execution_count": null,
      "outputs": []
    },
    {
      "cell_type": "code",
      "metadata": {},
      "source": [
        "from vetiver import vetiver_pin_write\n",
        "from vetiver import VetiverAPI\n",
        "import pins"
      ],
      "id": "db690dc5",
      "execution_count": null,
      "outputs": []
    },
    {
      "cell_type": "code",
      "metadata": {},
      "source": [
        "b = pins.board_folder('data/model', allow_pickle_read=True)\n",
        "vetiver_pin_write(b,v,'penguin_model')\n",
        "v = VetiverModel.from_pin(b, 'penguin_model')"
      ],
      "id": "ce6ebd6a",
      "execution_count": null,
      "outputs": []
    },
    {
      "cell_type": "markdown",
      "metadata": {},
      "source": [
        "## Generate a {fastAPI} model\n"
      ],
      "id": "b241c537"
    },
    {
      "cell_type": "code",
      "metadata": {},
      "source": [
        "app = VetiverAPI(v,check_prototype = True)"
      ],
      "id": "44bb5da2",
      "execution_count": null,
      "outputs": []
    },
    {
      "cell_type": "markdown",
      "metadata": {},
      "source": [
        "## try calling the model in the code"
      ],
      "id": "c56f87bd"
    },
    {
      "cell_type": "code",
      "metadata": {},
      "source": [
        "import requests\n",
        "\n",
        "#app.run(port = 8080)  # run the app\n",
        "\n",
        "req_data = {\n",
        "  \"bill_length_mm\": 0,\n",
        "  \"species_Chinstrap\": False,\n",
        "  \"species_Gentoo\": False,\n",
        "  \"sex_male\": False\n",
        "}\n",
        "req = requests.post('http://127.0.0.1:8080/predict', json = [req_data])\n",
        "res = req.json().get('predict')[0]"
      ],
      "id": "89e71bbf",
      "execution_count": null,
      "outputs": []
    },
    {
      "cell_type": "markdown",
      "metadata": {},
      "source": [
        "# run this to open a python virtual environment: .venv\\Scripts\\activate"
      ],
      "id": "78c9d567"
    }
  ],
  "metadata": {
    "kernelspec": {
      "name": "python3",
      "language": "python",
      "display_name": "Python 3 (ipykernel)"
    }
  },
  "nbformat": 4,
  "nbformat_minor": 5
}